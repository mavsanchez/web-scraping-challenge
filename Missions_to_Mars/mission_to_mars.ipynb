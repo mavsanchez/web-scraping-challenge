{
 "cells": [
  {
   "cell_type": "code",
   "execution_count": 3,
   "metadata": {},
   "outputs": [],
   "source": [
    "from splinter import Browser\n",
    "from splinter.exceptions import ElementDoesNotExist\n",
    "from bs4 import BeautifulSoup\n",
    "import requests\n",
    "import pandas as pd"
   ]
  },
  {
   "cell_type": "code",
   "execution_count": 55,
   "metadata": {},
   "outputs": [],
   "source": [
    "executable_path = {'executable_path': 'chromedriver.exe'}\n",
    "browser = Browser('chrome', **executable_path, headless=True)"
   ]
  },
  {
   "cell_type": "code",
   "execution_count": 8,
   "metadata": {},
   "outputs": [],
   "source": [
    "news_url = 'https://mars.nasa.gov/news/'\n",
    "browser.visit(news_url)\n",
    "browser.html\n",
    "html = browser.html\n",
    "soup = BeautifulSoup(html, 'lxml')"
   ]
  },
  {
   "cell_type": "code",
   "execution_count": 9,
   "metadata": {},
   "outputs": [
    {
     "name": "stdout",
     "output_type": "stream",
     "text": [
      "Mars InSight Lander to Push on Top of the 'Mole'\n",
      "Engineers have a plan for pushing down on the heat probe, which has been stuck at the Martian surface for a year.\n",
      "------------------------------------------------------------\n",
      "NASA Adds Return Sample Scientists to Mars 2020 Leadership Team\n",
      "The leadership council for Mars 2020 science added two new members who represent the interests of scientists destined to handle and study the first samples from Red Planet.\n",
      "------------------------------------------------------------\n",
      "NASA's Mars Reconnaissance Orbiter Undergoes Memory Update\n",
      "Other orbiters will continue relaying data from Mars surface missions for a two-week period.\n",
      "------------------------------------------------------------\n",
      "NASA's Mars 2020 Rover Goes Coast-to-Coast to Prep for Launch\n",
      "The agency's first step in returning rocks from Mars just arrived at Kennedy Space Center. The Mars 2020 team now begins readying for a launch to the Red Planet this July.\n",
      "------------------------------------------------------------\n",
      "NASA Prepares for Moon and Mars With New Addition to Its Deep Space Network\n",
      "Robotic spacecraft will be able to communicate with the dish using radio waves and lasers.\n",
      "------------------------------------------------------------\n",
      "NASA Administrator Statement on Moon to Mars Initiative, FY 2021 Budget\n",
      "Jim Bridenstine addresses NASA's ambitious plans for the coming years, including Mars Sample Return.\n",
      "------------------------------------------------------------\n",
      "All About the Laser (and Microphone) Atop Mars 2020, NASA's Next Rover\n",
      "SuperCam is a rock-vaporizing instrument that will help scientists hunt for Mars fossils.\n",
      "------------------------------------------------------------\n",
      "NASA's MAVEN Explores Mars to Understand Radio Interference at Earth\n",
      "NASA’s MAVEN spacecraft has discovered “layers” and “rifts” in the electrically charged part of the upper atmosphere of Mars.\n",
      "------------------------------------------------------------\n",
      "Nine Finalists Chosen in NASA's Mars 2020 Rover Naming Contest\n",
      "Nine finalists have been chosen in the essay contest for K-12 students across U.S. to name NASA's next Mars rover. Now you can help by voting for your favorite. \n",
      "------------------------------------------------------------\n",
      "NASA's Mars 2020 Rover Closer to Getting Its Name\n",
      "155 students from across the U.S. have been chosen as semifinalists in NASA's essay contest to name the Mars 2020 rover, and see it launch from Cape Canaveral this July.\n",
      "------------------------------------------------------------\n",
      "Media Get a Close-Up of NASA's Mars 2020 Rover\n",
      "The clean room at NASA's Jet Propulsion Laboratory was open to the media to see NASA's next Mars explorer before it leaves for Florida in preparation for a summertime launch.\n",
      "------------------------------------------------------------\n",
      "Space History Is Made in This NASA Robot Factory\n",
      "From rockets to rovers, JPL's Spacecraft Assembly Facility has been at the center of robotic spaceflight. Here's a closer look at what makes it so special.\n",
      "------------------------------------------------------------\n",
      "NASA's Mars 2020 Rover Completes Its First Drive\n",
      "In a 10-plus-hour marathon, the rover steered, turned and drove in 3-foot (1-meter) increments over small ramps.\n",
      "------------------------------------------------------------\n",
      "NASA's MAVEN Maps Winds in the Martian Upper Atmosphere that Mirror the Terrain Below and Gives Clues to Martian Climate\n",
      "Researchers have created the first map of wind circulation in the upper atmosphere of a planet besides Earth, using data from NASA’s MAVEN spacecraft that were collected during the last two years.\n",
      "------------------------------------------------------------\n",
      "Newfound Martian Aurora Actually the Most Common; Sheds Light on Mars' Changing Climate\n",
      "A type of Martian aurora first identified by NASA’s MAVEN spacecraft in 2016 is actually the most common form of aurora occurring on the Red Planet, according to new results from the mission.\n",
      "------------------------------------------------------------\n",
      "NASA's Treasure Map for Water Ice on Mars\n",
      "A new study identifies frozen water just below the Martian surface, where astronauts could easily dig it up.\n",
      "------------------------------------------------------------\n",
      "Two Rovers to Roll on Mars Again: Curiosity and Mars 2020\n",
      "They look like twins. But under the hood, the rover currently exploring the Red Planet and the one launching there this summer have distinct science tools and roles to play.\n",
      "------------------------------------------------------------\n",
      "NASA's Briefcase-Size MarCO Satellite Picks Up Honors\n",
      "The twin spacecraft, the first of their kind to fly into deep space, earn a Laureate from Aviation Week & Space Technology.\n",
      "------------------------------------------------------------\n",
      "Global Storms on Mars Launch Dust Towers Into the Sky\n",
      "A Mars Dust Tower Stands Out Dust storms are common on Mars. But every decade or so, something unpredictable happens: a series of runaway storms break out, covering the entire planet in a dusty haze.\n",
      "------------------------------------------------------------\n",
      "NASA Updates Mars 2020 Mission Environmental Review\n",
      "NASA and the Department of Energy have completed a more detailed risk analysis for the Mars 2020 rover launch from Florida.\n",
      "------------------------------------------------------------\n",
      "Two of a Space Kind: Apollo 12 and Mars 2020\n",
      "Apollo 12 and the upcoming Mars 2020 mission may be separated by half a century, but they share several goals unique in the annals of space exploration.\n",
      "------------------------------------------------------------\n",
      "Mars Scientists Investigate Ancient Life in Australia\n",
      "Teams with NASA's Mars 2020 and ESA's ExoMars practiced hunting for fossilized microbial life in the Australian Outback in preparation for their Red Planet missions. \n",
      "------------------------------------------------------------\n",
      "NASA's Mars 2020 Will Hunt for Microscopic Fossils\n",
      "A new paper identifies a ring of minerals at the rover's landing site that are ideal for fossilizing microbial life.\n",
      "------------------------------------------------------------\n",
      "With Mars Methane Mystery Unsolved, Curiosity Serves Scientists a New One: Oxygen\n",
      "For the first time in the history of space exploration, scientists have measured the seasonal changes in the gases that fill the air directly above the surface of Gale Crater on Mars. \n",
      "------------------------------------------------------------\n",
      "NASA's Mars 2020 Heads Into the Test Chamber\n",
      "In this time-lapse video taken at JPL, engineers move the Mars 2020 rover into a large vacuum chamber for testing in Mars-like environmental conditions.\n",
      "------------------------------------------------------------\n",
      "Screening Soon: 'The Pathfinders' Trains Lens on Mars\n",
      "With the Mars 2020 mission ramping up, the documentary — the first of four about past JPL missions to the Red Planet to be shown at Caltech — tells a gripping backstory.\n",
      "------------------------------------------------------------\n",
      "InSight's 'Mole' Team Peers into the Pit\n",
      "Efforts to save the heat probe continue.\n",
      "------------------------------------------------------------\n",
      "Common Questions about InSight's 'Mole'\n",
      "There's a new plan to get InSight's \"mole\" moving again. The following Q&As with two members of the team answer some of the most common questions about the burrowing device, part of a science instrument called the Heat Flow and Physical Properties Package (HP3).\n",
      "------------------------------------------------------------\n",
      "Mars 2020 Stands on Its Own Six Wheels\n",
      "In time-lapse video, taken at JPL, captures the first time NASA's Mars 2020 rover carries its full weight on its legs and wheels.\n",
      "------------------------------------------------------------\n",
      "New Selfie Shows Curiosity, the Mars Chemist\n",
      "The NASA rover performed a special chemistry experiment at the location captured in its newest self-portrait.\n",
      "------------------------------------------------------------\n",
      "Naming a NASA Mars Rover Can Change Your Life\n",
      "Want to name the robotic scientist NASA is sending to Mars in 2020? The student who named Curiosity — the rover currently exploring Mars — will tell you this is an opportunity worth taking.\n",
      "------------------------------------------------------------\n",
      "Mars 2020 Unwrapped and Ready for More Testing\n",
      "In time-lapse video, bunny-suited engineers remove the inner layer of protective foil on NASA's Mars 2020 rover after it was relocated for testing.\n",
      "------------------------------------------------------------\n",
      "HiRISE Views NASA's InSight and Curiosity on Mars\n",
      "New images taken from space offer the clearest orbital glimpse yet of InSight as well as a view of Curiosity rolling along.\n",
      "------------------------------------------------------------\n",
      "NASA's Curiosity Rover Finds an Ancient Oasis on Mars\n",
      "New evidence suggests salty, shallow ponds once dotted a Martian crater — a sign of the planet's drying climate.\n",
      "------------------------------------------------------------\n",
      "NASA's Mars 2020 Rover Tests Descent-Stage Separation\n",
      "A crane lifts the rocket-powered descent stage away from NASA's Mars 2020 rover after technicians tested the pyrotechnic charges that separate the two spacecraft.\n",
      "------------------------------------------------------------\n",
      "NASA's Push to Save the Mars InSight Lander's Heat Probe\n",
      "The scoop on the end of the spacecraft's robotic arm will be used to 'pin' the mole against the wall of its hole.\n",
      "------------------------------------------------------------\n",
      "NASA's InSight 'Hears' Peculiar Sounds on Mars\n",
      "Listen to the marsquakes and other, less-expected sounds that the Mars lander has been detecting.\n",
      "------------------------------------------------------------\n",
      "NASA Mars Mission Connects With Bosnian and Herzegovinian Town\n",
      "A letter from NASA was presented to the mayor of Jezero, Bosnia-Herzegovina, honoring the connection between the town and Jezero Crater, the Mars 2020 rover landing site.\n",
      "------------------------------------------------------------\n",
      "Deadline Closing for Names to Fly on NASA's Next Mars Rover\n",
      "You have until Sept. 30 to send your names to Mars aboard the Mars 2020 rover. \n",
      "------------------------------------------------------------\n",
      "NASA Wins Two Emmy Awards for Interactive Mission Coverage\n",
      "NASA-JPL's coverage of the Mars InSight landing earns one of the two wins, making this the NASA center's second Emmy.\n",
      "------------------------------------------------------------\n"
     ]
    }
   ],
   "source": [
    "news = soup.find('ul', class_='item_list')\n",
    "articles = news.find_all('li', class_='slide')\n",
    "\n",
    "for article in articles:\n",
    "    news_title = article.find('div', class_='content_title').a.text\n",
    "    news_p = article.find('div', class_='article_teaser_body').text\n",
    "    print(news_title)\n",
    "    print(news_p)\n",
    "    print(20*'---')"
   ]
  },
  {
   "cell_type": "code",
   "execution_count": 10,
   "metadata": {},
   "outputs": [],
   "source": [
    "base_image_url = 'https://www.jpl.nasa.gov'\n",
    "target_image_url = f'{base_image_url}/spaceimages/?search=&category=Mars'\n",
    "browser.visit(target_image_url)\n",
    "browser.html\n",
    "html = browser.html\n",
    "soup = BeautifulSoup(html, 'lxml')"
   ]
  },
  {
   "cell_type": "code",
   "execution_count": 11,
   "metadata": {},
   "outputs": [
    {
     "name": "stdout",
     "output_type": "stream",
     "text": [
      "https://www.jpl.nasa.gov/spaceimages/images/largesize/PIA23707_hires.jpg\n",
      "------------------------------------------------------------\n",
      "https://www.jpl.nasa.gov/spaceimages/images/largesize/PIA23706_hires.jpg\n",
      "------------------------------------------------------------\n",
      "https://www.jpl.nasa.gov/spaceimages/images/largesize/PIA23705_hires.jpg\n",
      "------------------------------------------------------------\n",
      "https://www.jpl.nasa.gov/spaceimages/images/largesize/PIA23704_hires.jpg\n",
      "------------------------------------------------------------\n",
      "https://www.jpl.nasa.gov/spaceimages/images/largesize/PIA23703_hires.jpg\n",
      "------------------------------------------------------------\n",
      "https://www.jpl.nasa.gov/spaceimages/images/largesize/PIA23702_hires.jpg\n",
      "------------------------------------------------------------\n",
      "https://www.jpl.nasa.gov/spaceimages/images/largesize/PIA23664_hires.jpg\n",
      "------------------------------------------------------------\n",
      "https://www.jpl.nasa.gov/spaceimages/images/largesize/PIA23663_hires.jpg\n",
      "------------------------------------------------------------\n",
      "https://www.jpl.nasa.gov/spaceimages/images/largesize/PIA23662_hires.jpg\n",
      "------------------------------------------------------------\n",
      "https://www.jpl.nasa.gov/spaceimages/images/largesize/PIA23661_hires.jpg\n",
      "------------------------------------------------------------\n",
      "https://www.jpl.nasa.gov/spaceimages/images/largesize/PIA23660_hires.jpg\n",
      "------------------------------------------------------------\n",
      "https://www.jpl.nasa.gov/spaceimages/images/largesize/PIA23659_hires.jpg\n",
      "------------------------------------------------------------\n",
      "https://www.jpl.nasa.gov/spaceimages/images/largesize/PIA23658_hires.jpg\n",
      "------------------------------------------------------------\n",
      "https://www.jpl.nasa.gov/spaceimages/images/largesize/PIA23657_hires.jpg\n",
      "------------------------------------------------------------\n",
      "https://www.jpl.nasa.gov/spaceimages/images/largesize/PIA23656_hires.jpg\n",
      "------------------------------------------------------------\n",
      "https://www.jpl.nasa.gov/spaceimages/images/largesize/PIA23655_hires.jpg\n",
      "------------------------------------------------------------\n",
      "https://www.jpl.nasa.gov/spaceimages/images/largesize/PIA23654_hires.jpg\n",
      "------------------------------------------------------------\n",
      "https://www.jpl.nasa.gov/spaceimages/images/largesize/PIA23653_hires.jpg\n",
      "------------------------------------------------------------\n",
      "https://www.jpl.nasa.gov/spaceimages/images/largesize/PIA23652_hires.jpg\n",
      "------------------------------------------------------------\n",
      "https://www.jpl.nasa.gov/spaceimages/images/largesize/PIA23651_hires.jpg\n",
      "------------------------------------------------------------\n",
      "https://www.jpl.nasa.gov/spaceimages/images/largesize/PIA23640_hires.jpg\n",
      "------------------------------------------------------------\n",
      "https://www.jpl.nasa.gov/spaceimages/images/largesize/PIA23669_hires.jpg\n",
      "------------------------------------------------------------\n",
      "https://www.jpl.nasa.gov/spaceimages/images/largesize/PIA23668_hires.jpg\n",
      "------------------------------------------------------------\n",
      "https://www.jpl.nasa.gov/spaceimages/images/largesize/PIA23667_hires.jpg\n",
      "------------------------------------------------------------\n",
      "https://www.jpl.nasa.gov/spaceimages/images/largesize/PIA23666_hires.jpg\n",
      "------------------------------------------------------------\n",
      "https://www.jpl.nasa.gov/spaceimages/images/largesize/PIA23639_hires.jpg\n",
      "------------------------------------------------------------\n",
      "https://www.jpl.nasa.gov/spaceimages/images/largesize/PIA23638_hires.jpg\n",
      "------------------------------------------------------------\n",
      "https://www.jpl.nasa.gov/spaceimages/images/largesize/PIA23637_hires.jpg\n",
      "------------------------------------------------------------\n",
      "https://www.jpl.nasa.gov/spaceimages/images/largesize/PIA23636_hires.jpg\n",
      "------------------------------------------------------------\n",
      "https://www.jpl.nasa.gov/spaceimages/images/largesize/PIA23635_hires.jpg\n",
      "------------------------------------------------------------\n",
      "https://www.jpl.nasa.gov/spaceimages/images/largesize/PIA23634_hires.jpg\n",
      "------------------------------------------------------------\n",
      "https://www.jpl.nasa.gov/spaceimages/images/largesize/PIA23633_hires.jpg\n",
      "------------------------------------------------------------\n"
     ]
    }
   ],
   "source": [
    "image_art = soup.find('ul', class_='articles')\n",
    "images = image_art.find_all('li', class_='slide')\n",
    "\n",
    "for image in images:\n",
    "    featured_image_url = f\"{base_image_url}{image.a['data-fancybox-href']}\"\n",
    "    print(featured_image_url)\n",
    "    print(20*'---')"
   ]
  },
  {
   "cell_type": "code",
   "execution_count": 12,
   "metadata": {},
   "outputs": [],
   "source": [
    "twitter_url = 'https://twitter.com/marswxreport'\n",
    "response = requests.get(twitter_url)\n",
    "html = response.text\n",
    "soup = BeautifulSoup(html, 'html.parser')"
   ]
  },
  {
   "cell_type": "code",
   "execution_count": 13,
   "metadata": {},
   "outputs": [
    {
     "name": "stdout",
     "output_type": "stream",
     "text": [
      "InSight sol 441 (2020-02-22) low -95.1ºC (-139.1ºF) high -13.5ºC (7.7ºF)\n",
      "winds from the SSE at 6.2 m/s (13.8 mph) gusting to 21.0 m/s (47.0 mph)\n",
      "pressure at 6.30 hPapic.twitter.com/ztf0TqK14M\n",
      "------------------------------------------------------------\n",
      "InSight sol 440 (2020-02-21) low -95.2ºC (-139.3ºF) high -13.0ºC (8.6ºF)\n",
      "winds from the W at 6.0 m/s (13.4 mph) gusting to 23.7 m/s (52.9 mph)\n",
      "pressure at 6.30 hPapic.twitter.com/5uoXVigK0E\n",
      "------------------------------------------------------------\n",
      "InSight sol 439 (2020-02-20) low -94.7ºC (-138.4ºF) high -9.3ºC (15.2ºF)\n",
      "winds from the SSE at 6.5 m/s (14.6 mph) gusting to 23.2 m/s (51.9 mph)\n",
      "pressure at 6.30 hPapic.twitter.com/VRiv3fQH9p\n",
      "------------------------------------------------------------\n",
      "InSight sol 438 (2020-02-19) low -95.4ºC (-139.7ºF) high -10.0ºC (13.9ºF)\n",
      "winds from the SSE at 5.9 m/s (13.3 mph) gusting to 22.1 m/s (49.3 mph)\n",
      "pressure at 6.30 hPapic.twitter.com/dFu1S5EhpH\n",
      "------------------------------------------------------------\n",
      "InSight sol 437 (2020-02-18) low -94.7ºC (-138.5ºF) high -9.9ºC (14.1ºF)\n",
      "winds from the SSE at 6.2 m/s (13.8 mph) gusting to 21.6 m/s (48.3 mph)\n",
      "pressure at 6.30 hPapic.twitter.com/SLsDLVefeh\n",
      "------------------------------------------------------------\n",
      "InSight sol 436 (2020-02-17) low -94.4ºC (-137.9ºF) high -11.4ºC (11.4ºF)\n",
      "winds from the SSE at 6.3 m/s (14.1 mph) gusting to 21.5 m/s (48.1 mph)\n",
      "pressure at 6.30 hPa\n",
      "------------------------------------------------------------\n",
      "InSight sol 435 (2020-02-16) low -93.8ºC (-136.9ºF) high -10.2ºC (13.7ºF)\n",
      "winds from the SSE at 7.4 m/s (16.5 mph) gusting to 23.0 m/s (51.5 mph)\n",
      "pressure at 6.30 hPapic.twitter.com/jPxselhyBR\n",
      "------------------------------------------------------------\n",
      "InSight sol 434 (2020-02-15) low -94.5ºC (-138.2ºF) high -7.3ºC (18.8ºF)\n",
      "winds from the SSE at 7.3 m/s (16.4 mph) gusting to 22.0 m/s (49.2 mph)\n",
      "pressure at 6.30 hPapic.twitter.com/NBfGRaZjqg\n",
      "------------------------------------------------------------\n",
      "InSight sol 433 (2020-02-14) low -94.2ºC (-137.5ºF) high -8.9ºC (16.0ºF)\n",
      "winds from the W at 6.1 m/s (13.6 mph) gusting to 21.6 m/s (48.4 mph)\n",
      "pressure at 6.30 hPapic.twitter.com/1F89XWUZve\n",
      "------------------------------------------------------------\n",
      "InSight sol 432 (2020-02-13) low -94.2ºC (-137.6ºF) high -9.4ºC (15.0ºF)\n",
      "winds from the W at 5.6 m/s (12.6 mph) gusting to 21.1 m/s (47.3 mph)\n",
      "pressure at 6.30 hPapic.twitter.com/1Opa2YuTxe\n",
      "------------------------------------------------------------\n",
      "InSight sol 431 (2020-02-12) low -93.9ºC (-137.0ºF) high -11.9ºC (10.6ºF)\n",
      "winds from the W at 5.7 m/s (12.6 mph) gusting to 21.6 m/s (48.3 mph)\n",
      "pressure at 6.30 hPapic.twitter.com/tQzaZRv02G\n",
      "------------------------------------------------------------\n",
      "InSight sol 430 (2020-02-11) low -93.3ºC (-135.9ºF) high -13.0ºC (8.6ºF)\n",
      "winds from the W at 5.9 m/s (13.3 mph) gusting to 21.6 m/s (48.3 mph)\n",
      "pressure at 6.30 hPapic.twitter.com/nVorOVQ7ZM\n",
      "------------------------------------------------------------\n",
      "InSight sol 429 (2020-02-10) low -94.8ºC (-138.6ºF) high -10.4ºC (13.3ºF)\n",
      "winds from the W at 6.2 m/s (13.8 mph) gusting to 26.3 m/s (58.8 mph)\n",
      "pressure at 6.30 hPapic.twitter.com/1plhb6ADP6\n",
      "------------------------------------------------------------\n",
      "InSight sol 428 (2020-02-08) low -91.6ºC (-132.9ºF) high -8.7ºC (16.3ºF)\n",
      "winds from the WNW at 5.9 m/s (13.3 mph) gusting to 25.4 m/s (56.9 mph)\n",
      "pressure at 6.30 hPapic.twitter.com/GH5cotJVzC\n",
      "------------------------------------------------------------\n",
      "InSight sol 427 (2020-02-07) low -91.7ºC (-133.0ºF) high -9.8ºC (14.4ºF)\n",
      "winds from the WNW at 6.0 m/s (13.5 mph) gusting to 25.0 m/s (56.0 mph)\n",
      "pressure at 6.30 hPapic.twitter.com/4pin45x1Xl\n",
      "------------------------------------------------------------\n",
      "InSight sol 426 (2020-02-06) low -91.6ºC (-133.0ºF) high -9.1ºC (15.7ºF)\n",
      "winds from the WNW at 5.5 m/s (12.3 mph) gusting to 22.6 m/s (50.5 mph)\n",
      "pressure at 6.30 hPapic.twitter.com/oj77EqCqa8\n",
      "------------------------------------------------------------\n"
     ]
    }
   ],
   "source": [
    "tweets_div = soup.find_all('p', class_=\"TweetTextSize TweetTextSize--normal js-tweet-text tweet-text\")\n",
    "\n",
    "for tweet in tweets_div:\n",
    "    if tweet.text.startswith(\"InSight sol\", 0):\n",
    "        print(tweet.text)\n",
    "    else:\n",
    "        continue\n",
    "    print(20*'---')"
   ]
  },
  {
   "cell_type": "code",
   "execution_count": 68,
   "metadata": {},
   "outputs": [],
   "source": [
    "facts_site = pd.read_html(\"https://space-facts.com/mars/\")"
   ]
  },
  {
   "cell_type": "code",
   "execution_count": 91,
   "metadata": {},
   "outputs": [
    {
     "data": {
      "text/plain": [
       "{'Equatorial Diameter:': '6,792 km',\n",
       " 'Polar Diameter:': '6,752 km',\n",
       " 'Mass:': '6.39 × 10^23 kg (0.11 Earths)',\n",
       " 'Moons:': '2 (Phobos & Deimos)',\n",
       " 'Orbit Distance:': '227,943,824 km (1.38 AU)',\n",
       " 'Orbit Period:': '687 days (1.9 years)',\n",
       " 'Surface Temperature:': '-87 to -5 °C',\n",
       " 'First Record:': '2nd millennium BC',\n",
       " 'Recorded By:': 'Egyptian astronomers'}"
      ]
     },
     "execution_count": 91,
     "metadata": {},
     "output_type": "execute_result"
    }
   ],
   "source": [
    "mars_df = pd.DataFrame(facts_site[0])\n",
    "mars_df.set_index(0)\n",
    "new_dict = {}\n",
    "for row in mars_df.iterrows():\n",
    "    new_dict[row[1][0]] = row[1][1]\n",
    "new_dict"
   ]
  },
  {
   "cell_type": "code",
   "execution_count": 43,
   "metadata": {},
   "outputs": [],
   "source": [
    "usgs_image_url = 'https://astropedia.astrogeology.usgs.gov'\n",
    "base_image_url = 'https://astrogeology.usgs.gov/search/results?q=hemisphere+enhanced&k1=target&v1=Mars'\n",
    "# target_image_url = f'{base_image_url}/spaceimages/?search=&category=Mars'\n",
    "browser.visit(base_image_url)\n",
    "browser.html\n",
    "html = browser.html\n",
    "soup = BeautifulSoup(html, 'lxml')\n"
   ]
  },
  {
   "cell_type": "code",
   "execution_count": 46,
   "metadata": {},
   "outputs": [],
   "source": [
    "pic_links = soup.find_all('a', class_=\"itemLink\")\n",
    "# http://astropedia.astrogeology.usgs.gov/download/Mars/Viking/cerberus_enhanced.tif"
   ]
  },
  {
   "cell_type": "code",
   "execution_count": 53,
   "metadata": {},
   "outputs": [],
   "source": [
    "hemisphere_image_urls = []\n",
    "for pic in pic_links:\n",
    "    img = {}\n",
    "    if pic.h3:\n",
    "        img['title'] = pic.h3.text\n",
    "        img['img_url'] = usgs_image_url+pic['href'].replace('/search/map/','/download/') +'.tif'\n",
    "        hemisphere_image_urls.append(img)"
   ]
  },
  {
   "cell_type": "code",
   "execution_count": 54,
   "metadata": {},
   "outputs": [
    {
     "data": {
      "text/plain": [
       "[{'title': 'Cerberus Hemisphere Enhanced',\n",
       "  'img_url': 'https://astropedia.astrogeology.usgs.gov/download/Mars/Viking/cerberus_enhanced.tif'},\n",
       " {'title': 'Schiaparelli Hemisphere Enhanced',\n",
       "  'img_url': 'https://astropedia.astrogeology.usgs.gov/download/Mars/Viking/schiaparelli_enhanced.tif'},\n",
       " {'title': 'Syrtis Major Hemisphere Enhanced',\n",
       "  'img_url': 'https://astropedia.astrogeology.usgs.gov/download/Mars/Viking/syrtis_major_enhanced.tif'},\n",
       " {'title': 'Valles Marineris Hemisphere Enhanced',\n",
       "  'img_url': 'https://astropedia.astrogeology.usgs.gov/download/Mars/Viking/valles_marineris_enhanced.tif'}]"
      ]
     },
     "execution_count": 54,
     "metadata": {},
     "output_type": "execute_result"
    }
   ],
   "source": [
    "hemisphere_image_urls"
   ]
  },
  {
   "cell_type": "code",
   "execution_count": null,
   "metadata": {},
   "outputs": [],
   "source": []
  }
 ],
 "metadata": {
  "kernelspec": {
   "display_name": "Python 3",
   "language": "python",
   "name": "python3"
  },
  "language_info": {
   "codemirror_mode": {
    "name": "ipython",
    "version": 3
   },
   "file_extension": ".py",
   "mimetype": "text/x-python",
   "name": "python",
   "nbconvert_exporter": "python",
   "pygments_lexer": "ipython3",
   "version": "3.8.1"
  },
  "varInspector": {
   "cols": {
    "lenName": 16,
    "lenType": 16,
    "lenVar": 40
   },
   "kernels_config": {
    "python": {
     "delete_cmd_postfix": "",
     "delete_cmd_prefix": "del ",
     "library": "var_list.py",
     "varRefreshCmd": "print(var_dic_list())"
    },
    "r": {
     "delete_cmd_postfix": ") ",
     "delete_cmd_prefix": "rm(",
     "library": "var_list.r",
     "varRefreshCmd": "cat(var_dic_list()) "
    }
   },
   "types_to_exclude": [
    "module",
    "function",
    "builtin_function_or_method",
    "instance",
    "_Feature"
   ],
   "window_display": false
  }
 },
 "nbformat": 4,
 "nbformat_minor": 4
}
