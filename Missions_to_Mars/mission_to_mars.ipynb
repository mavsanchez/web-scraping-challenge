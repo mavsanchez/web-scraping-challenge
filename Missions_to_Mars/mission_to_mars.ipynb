{
 "cells": [
  {
   "cell_type": "code",
   "execution_count": 120,
   "metadata": {},
   "outputs": [],
   "source": [
    "from splinter import Browser\n",
    "from splinter.exceptions import ElementDoesNotExist\n",
    "from bs4 import BeautifulSoup\n",
    "import requests"
   ]
  },
  {
   "cell_type": "code",
   "execution_count": 258,
   "metadata": {},
   "outputs": [],
   "source": [
    "executable_path = {'executable_path': 'chromedriver.exe'}\n",
    "browser = Browser('chrome', **executable_path, headless=False)"
   ]
  },
  {
   "cell_type": "code",
   "execution_count": 216,
   "metadata": {},
   "outputs": [],
   "source": [
    "news_url = 'https://mars.nasa.gov/news/'\n",
    "browser.visit(news_url)\n",
    "browser.html\n",
    "html = browser.html\n",
    "soup = BeautifulSoup(html, 'lxml')"
   ]
  },
  {
   "cell_type": "code",
   "execution_count": null,
   "metadata": {},
   "outputs": [],
   "source": [
    "news = soup.find('ul', class_='item_list')\n",
    "articles = news.find_all('li', class_='slide')\n",
    "\n",
    "for article in articles:\n",
    "    news_title = article.find('div', class_='content_title').a.text\n",
    "    news_p = article.find('div', class_='article_teaser_body').text\n",
    "    print(news_title)\n",
    "    print(news_p)\n",
    "    print(20*'---')"
   ]
  },
  {
   "cell_type": "code",
   "execution_count": 243,
   "metadata": {},
   "outputs": [],
   "source": [
    "base_image_url = 'https://www.jpl.nasa.gov'\n",
    "target_image_url = f'{base_image_url}/spaceimages/?search=&category=Mars'\n",
    "browser.visit(target_image_url)\n",
    "browser.html\n",
    "html = browser.html\n",
    "soup = BeautifulSoup(html, 'lxml')"
   ]
  },
  {
   "cell_type": "code",
   "execution_count": null,
   "metadata": {},
   "outputs": [],
   "source": [
    "image_art = soup.find('ul', class_='articles')\n",
    "images = image_art.find_all('li', class_='slide')\n",
    "\n",
    "for image in images:\n",
    "    featured_image_url = f\"{base_image_url}{image.a['data-fancybox-href']}\"\n",
    "    print(featured_image_url)\n",
    "    print(20*'---')"
   ]
  },
  {
   "cell_type": "code",
   "execution_count": 269,
   "metadata": {},
   "outputs": [],
   "source": [
    "twitter_url = 'https://twitter.com/marswxreport'\n",
    "response = requests.get(twitter_url)\n",
    "html = response.text\n",
    "soup = BeautifulSoup(html, 'html.parser')"
   ]
  },
  {
   "cell_type": "code",
   "execution_count": 285,
   "metadata": {},
   "outputs": [
    {
     "name": "stdout",
     "output_type": "stream",
     "text": [
      "InSight sol 441 (2020-02-22) low -95.1ºC (-139.1ºF) high -13.5ºC (7.7ºF)\n",
      "winds from the SSE at 6.2 m/s (13.8 mph) gusting to 21.0 m/s (47.0 mph)\n",
      "pressure at 6.30 hPapic.twitter.com/ztf0TqK14M\n",
      "------------------------------------------------------------\n",
      "InSight sol 440 (2020-02-21) low -95.2ºC (-139.3ºF) high -13.0ºC (8.6ºF)\n",
      "winds from the W at 6.0 m/s (13.4 mph) gusting to 23.7 m/s (52.9 mph)\n",
      "pressure at 6.30 hPapic.twitter.com/5uoXVigK0E\n",
      "------------------------------------------------------------\n",
      "InSight sol 439 (2020-02-20) low -94.7ºC (-138.4ºF) high -9.3ºC (15.2ºF)\n",
      "winds from the SSE at 6.5 m/s (14.6 mph) gusting to 23.2 m/s (51.9 mph)\n",
      "pressure at 6.30 hPapic.twitter.com/VRiv3fQH9p\n",
      "------------------------------------------------------------\n",
      "InSight sol 438 (2020-02-19) low -95.4ºC (-139.7ºF) high -10.0ºC (13.9ºF)\n",
      "winds from the SSE at 5.9 m/s (13.3 mph) gusting to 22.1 m/s (49.3 mph)\n",
      "pressure at 6.30 hPapic.twitter.com/dFu1S5EhpH\n",
      "------------------------------------------------------------\n",
      "InSight sol 437 (2020-02-18) low -94.7ºC (-138.5ºF) high -9.9ºC (14.1ºF)\n",
      "winds from the SSE at 6.2 m/s (13.8 mph) gusting to 21.6 m/s (48.3 mph)\n",
      "pressure at 6.30 hPapic.twitter.com/SLsDLVefeh\n",
      "------------------------------------------------------------\n",
      "InSight sol 436 (2020-02-17) low -94.4ºC (-137.9ºF) high -11.4ºC (11.4ºF)\n",
      "winds from the SSE at 6.3 m/s (14.1 mph) gusting to 21.5 m/s (48.1 mph)\n",
      "pressure at 6.30 hPa\n",
      "------------------------------------------------------------\n",
      "InSight sol 435 (2020-02-16) low -93.8ºC (-136.9ºF) high -10.2ºC (13.7ºF)\n",
      "winds from the SSE at 7.4 m/s (16.5 mph) gusting to 23.0 m/s (51.5 mph)\n",
      "pressure at 6.30 hPapic.twitter.com/jPxselhyBR\n",
      "------------------------------------------------------------\n",
      "InSight sol 434 (2020-02-15) low -94.5ºC (-138.2ºF) high -7.3ºC (18.8ºF)\n",
      "winds from the SSE at 7.3 m/s (16.4 mph) gusting to 22.0 m/s (49.2 mph)\n",
      "pressure at 6.30 hPapic.twitter.com/NBfGRaZjqg\n",
      "------------------------------------------------------------\n",
      "InSight sol 433 (2020-02-14) low -94.2ºC (-137.5ºF) high -8.9ºC (16.0ºF)\n",
      "winds from the W at 6.1 m/s (13.6 mph) gusting to 21.6 m/s (48.4 mph)\n",
      "pressure at 6.30 hPapic.twitter.com/1F89XWUZve\n",
      "------------------------------------------------------------\n",
      "InSight sol 432 (2020-02-13) low -94.2ºC (-137.6ºF) high -9.4ºC (15.0ºF)\n",
      "winds from the W at 5.6 m/s (12.6 mph) gusting to 21.1 m/s (47.3 mph)\n",
      "pressure at 6.30 hPapic.twitter.com/1Opa2YuTxe\n",
      "------------------------------------------------------------\n",
      "InSight sol 431 (2020-02-12) low -93.9ºC (-137.0ºF) high -11.9ºC (10.6ºF)\n",
      "winds from the W at 5.7 m/s (12.6 mph) gusting to 21.6 m/s (48.3 mph)\n",
      "pressure at 6.30 hPapic.twitter.com/tQzaZRv02G\n",
      "------------------------------------------------------------\n",
      "InSight sol 430 (2020-02-11) low -93.3ºC (-135.9ºF) high -13.0ºC (8.6ºF)\n",
      "winds from the W at 5.9 m/s (13.3 mph) gusting to 21.6 m/s (48.3 mph)\n",
      "pressure at 6.30 hPapic.twitter.com/nVorOVQ7ZM\n",
      "------------------------------------------------------------\n",
      "InSight sol 429 (2020-02-10) low -94.8ºC (-138.6ºF) high -10.4ºC (13.3ºF)\n",
      "winds from the W at 6.2 m/s (13.8 mph) gusting to 26.3 m/s (58.8 mph)\n",
      "pressure at 6.30 hPapic.twitter.com/1plhb6ADP6\n",
      "------------------------------------------------------------\n",
      "InSight sol 428 (2020-02-08) low -91.6ºC (-132.9ºF) high -8.7ºC (16.3ºF)\n",
      "winds from the WNW at 5.9 m/s (13.3 mph) gusting to 25.4 m/s (56.9 mph)\n",
      "pressure at 6.30 hPapic.twitter.com/GH5cotJVzC\n",
      "------------------------------------------------------------\n",
      "InSight sol 427 (2020-02-07) low -91.7ºC (-133.0ºF) high -9.8ºC (14.4ºF)\n",
      "winds from the WNW at 6.0 m/s (13.5 mph) gusting to 25.0 m/s (56.0 mph)\n",
      "pressure at 6.30 hPapic.twitter.com/4pin45x1Xl\n",
      "------------------------------------------------------------\n",
      "InSight sol 426 (2020-02-06) low -91.6ºC (-133.0ºF) high -9.1ºC (15.7ºF)\n",
      "winds from the WNW at 5.5 m/s (12.3 mph) gusting to 22.6 m/s (50.5 mph)\n",
      "pressure at 6.30 hPapic.twitter.com/oj77EqCqa8\n",
      "------------------------------------------------------------\n"
     ]
    }
   ],
   "source": [
    "tweets_div = soup.find_all('p', class_=\"TweetTextSize TweetTextSize--normal js-tweet-text tweet-text\")\n",
    "\n",
    "for tweet in tweets_div:\n",
    "    if tweet.text.startswith(\"InSight sol\", 0):\n",
    "        print(tweet.text)\n",
    "    else:\n",
    "        continue\n",
    "    print(20*'---')"
   ]
  },
  {
   "cell_type": "code",
   "execution_count": null,
   "metadata": {},
   "outputs": [],
   "source": []
  }
 ],
 "metadata": {
  "kernelspec": {
   "display_name": "Python 3",
   "language": "python",
   "name": "python3"
  },
  "language_info": {
   "codemirror_mode": {
    "name": "ipython",
    "version": 3
   },
   "file_extension": ".py",
   "mimetype": "text/x-python",
   "name": "python",
   "nbconvert_exporter": "python",
   "pygments_lexer": "ipython3",
   "version": "3.8.1"
  },
  "varInspector": {
   "cols": {
    "lenName": 16,
    "lenType": 16,
    "lenVar": 40
   },
   "kernels_config": {
    "python": {
     "delete_cmd_postfix": "",
     "delete_cmd_prefix": "del ",
     "library": "var_list.py",
     "varRefreshCmd": "print(var_dic_list())"
    },
    "r": {
     "delete_cmd_postfix": ") ",
     "delete_cmd_prefix": "rm(",
     "library": "var_list.r",
     "varRefreshCmd": "cat(var_dic_list()) "
    }
   },
   "types_to_exclude": [
    "module",
    "function",
    "builtin_function_or_method",
    "instance",
    "_Feature"
   ],
   "window_display": false
  }
 },
 "nbformat": 4,
 "nbformat_minor": 4
}
